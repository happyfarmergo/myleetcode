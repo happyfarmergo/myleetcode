{
 "cells": [
  {
   "cell_type": "markdown",
   "metadata": {},
   "source": [
    "# Template"
   ]
  },
  {
   "cell_type": "markdown",
   "metadata": {
    "heading_collapsed": true
   },
   "source": [
    "## Primes"
   ]
  },
  {
   "cell_type": "code",
   "execution_count": 10,
   "metadata": {
    "hidden": true
   },
   "outputs": [],
   "source": [
    "import math\n",
    "def gcd(a, b):\n",
    "    return b if a == 0 else gcd(b, a%b)\n",
    "# O(NlogN)\n",
    "def eratosthenes_sieve(N):\n",
    "    ans = []\n",
    "    flags = [0] * (N+1)\n",
    "    sqrtn = int(math.sqrt(N))\n",
    "    for i in range(2, sqrtn+1):\n",
    "        if not flags[i]:\n",
    "            ans.append(i)\n",
    "            for j in range(i*i,N+1,i):\n",
    "                flags[j] = 1\n",
    "    for i in range(sqrtn, N+1):\n",
    "        if not flags[i]: ans.append(i)\n",
    "    return ans\n",
    "# 每个合数只被筛一次 O(N)\n",
    "def euler_sieve(N):\n",
    "    ans = []\n",
    "    flags = [0] * (N+1)\n",
    "    for i in range(2, N+1):\n",
    "        if not flags[i]: ans.append(i)\n",
    "        j = 0\n",
    "        while i*ans[j] <= N:\n",
    "            flags[i*ans[j]] = 1\n",
    "            if i%ans[j] == 0: break\n",
    "            j += 1\n",
    "    return ans\n",
    "# N = 1000000\n",
    "# euler_sieve(N)\n",
    "# eratosthenes_sieve(N)"
   ]
  },
  {
   "cell_type": "markdown",
   "metadata": {
    "heading_collapsed": true
   },
   "source": [
    "## Bisect"
   ]
  },
  {
   "cell_type": "code",
   "execution_count": null,
   "metadata": {
    "hidden": true
   },
   "outputs": [],
   "source": [
    "# 记住bisect_left和bisect_right的区别\n",
    "# 327 (可以用线段树)\n",
    "class Solution:\n",
    "    def countRangeSum(self, nums: List[int], lower: int, upper: int) -> int:\n",
    "        sorts = [0]\n",
    "        ret = 0\n",
    "        for s in itertools.accumulate(nums):\n",
    "            left = bisect.bisect_left(sorts, s-upper)\n",
    "            right = bisect.bisect_right(sorts, s-lower)\n",
    "            ret += right - left\n",
    "            bisect.insort(sorts, s)\n",
    "        return ret"
   ]
  },
  {
   "cell_type": "markdown",
   "metadata": {
    "heading_collapsed": true
   },
   "source": [
    "## Coins"
   ]
  },
  {
   "cell_type": "code",
   "execution_count": null,
   "metadata": {
    "code_folding": [],
    "hidden": true
   },
   "outputs": [],
   "source": [
    "# 322\n",
    "class Solution(object):\n",
    "    def coinChange(self, coins, amount):\n",
    "        dp = [1<<31]*(amount+1)\n",
    "        dp[0] = 0\n",
    "        for i in range(1, amount+1):\n",
    "            for c in coins:\n",
    "                if i-c >= 0:\n",
    "                    dp[i] = min(dp[i], dp[i-c]+1)\n",
    "        return -1 if dp[amount]==(1<<31) else dp[amount]"
   ]
  },
  {
   "cell_type": "markdown",
   "metadata": {
    "heading_collapsed": true
   },
   "source": [
    "## UnionFind"
   ]
  },
  {
   "cell_type": "code",
   "execution_count": null,
   "metadata": {
    "code_folding": [],
    "hidden": true
   },
   "outputs": [],
   "source": [
    "class UnionFind(object):\n",
    "    def __init__(self, n):\n",
    "        self.n = n\n",
    "        self.parent = list(range(n))\n",
    "        self.size = [1] * n\n",
    "    def find(self, idx):\n",
    "        while self.parent[idx]!=idx:\n",
    "            self.parent[idx] = self.parent[self.parent[idx]]\n",
    "            idx = self.parent[idx]\n",
    "        return idx\n",
    "    def connect(self, a, b):\n",
    "        fa, fb = self.find(a), self.find(b)\n",
    "        if fa!=fb:\n",
    "            if self.size[fa] > self.size[fb]:\n",
    "                self.parent[fb] = fa\n",
    "                self.size[fa] += self.size[fb]\n",
    "            else:\n",
    "                self.parent[fa] = fb\n",
    "                self.size[fb] += self.size[fa]"
   ]
  },
  {
   "cell_type": "markdown",
   "metadata": {
    "heading_collapsed": true
   },
   "source": [
    "## ShortestPath"
   ]
  },
  {
   "cell_type": "code",
   "execution_count": null,
   "metadata": {
    "hidden": true
   },
   "outputs": [],
   "source": [
    "# 贪心 BFS\n",
    "def BFS(edges, start, end, N):\n",
    "    inf = 1<<30\n",
    "    vis = [inf] * N\n",
    "    vis[start] = 0\n",
    "    Q = collections.deque([start])\n",
    "    while Q:\n",
    "        cur = Q.popleft()\n",
    "        if cur == end: return vis[cur]\n",
    "        for nxt, w in edges[cur]:\n",
    "            if vis[nxt] > vis[cur] + w:\n",
    "                vis[nxt] = vis[cur] + w\n",
    "                Q.append(nxt)      \n",
    "# 比2时间复杂度高，堆中会加入所有边\n",
    "def Dijkstra_1(edges, start, end, N):\n",
    "    inf = 1<<30\n",
    "    vis = [0] * N\n",
    "    Q = [(0, start)]\n",
    "    while Q:\n",
    "        cost, cur = heapq.heappop(Q)\n",
    "        if vis[cur]: continue\n",
    "        vis[cur] = 1\n",
    "        if cur == end: return cost\n",
    "        for nxt, w in edges[cur]:\n",
    "            if not vis[nxt]:\n",
    "                heapq.heappush(Q, (cost+w, nxt))               \n",
    "# O(ElogV) 适合正权稀疏图，用邻接链表存储\n",
    "def Dijkstra_2(edges, start, end, N): # IMPORTANT\n",
    "    inf = 1<<30\n",
    "    vis = [0] * N\n",
    "    dist = [inf] * N\n",
    "    dist[start] = 0\n",
    "    Q = [(0, start)]\n",
    "    while Q:\n",
    "        cost, cur = heapq.heappop(Q)\n",
    "        if vis[cur]: continue\n",
    "        vis[cur] = 1\n",
    "        if cur == end: return cost\n",
    "        for nxt, w in edges[cur]:\n",
    "            if dist[nxt] > dist[cur] + w:\n",
    "                dist[nxt] = dist[cur] + w\n",
    "                heapq.heappush(Q, (dist[nxt], nxt))\n",
    "# O(V^2) 适合稠密图\n",
    "def Dijkstra(edges, start, end, N):\n",
    "    inf = 1<<30\n",
    "    vis = [0] * N\n",
    "    dist = [inf] * N\n",
    "    dist[start] = 0\n",
    "    for i in range(N):\n",
    "        v, minw = -1, inf\n",
    "        for j in range(N):\n",
    "            if not vis[j] and dist[j]<=minw:\n",
    "                v, minw = j, dist[j]\n",
    "        vis[v] = 1\n",
    "        for j in range(N):\n",
    "            dist[j] = min(dist[j], dist[v]+edges[v][j])\n",
    "        if v == end: return dist[end]\n",
    "# O(V^3)\n",
    "def Floyd(edges, N):\n",
    "    inf = 1<<30\n",
    "    dist = [[inf]*N for _ in range(N)]\n",
    "    for i in range(N):\n",
    "        dist[i][i] = 0\n",
    "    for k in range(N):\n",
    "        for i in range(N):\n",
    "            for j in range(N):\n",
    "                dist[i][j] = min(dist[i][j], dist[i][k]+dist[k][j])"
   ]
  },
  {
   "cell_type": "markdown",
   "metadata": {
    "heading_collapsed": true
   },
   "source": [
    "## Graph2Tree"
   ]
  },
  {
   "cell_type": "code",
   "execution_count": null,
   "metadata": {
    "code_folding": [],
    "hidden": true
   },
   "outputs": [],
   "source": [
    "# Prim适合稠密图，Krustral适合稀疏图\n",
    "class Graph(object):\n",
    "    def __init__(self, maps):\n",
    "        self.maps = maps\n",
    "        self.nodenum = self.get_nodenum()\n",
    "        self.edgenum = self.get_edgenum()\n",
    "    def kruskal(self): # 加边法\n",
    "        if self.nodenum <= 0 or self.edgenum < self.nodenum-1:\n",
    "            return 0\n",
    "        ans = 0\n",
    "        edge_list = []\n",
    "        for i in range(self.nodenum):\n",
    "            for j in range(i,self.nodenum):\n",
    "                if self.maps[i][j] < 9999:\n",
    "                    edge_list.append([i, j, self.maps[i][j]])\n",
    "        edge_list.sort(key=lambda a:a[2])\n",
    "        edge_num = 0\n",
    "        uf = UnionFind(self.nodenum)\n",
    "        for a, b, w in edge_list:\n",
    "            if uf.find(a)!=uf.find(b):\n",
    "                uf.connect(a, b)\n",
    "                ans += w\n",
    "                edge_num += 1\n",
    "            if edge_num == self.nodenum - 1: return ans\n",
    "        return -1\n",
    "    # 优先队列实现 O(E*logV)\n",
    "    def prim(self): # 加点法\n",
    "        if self.nodenum <= 0 or self.edgenum < self.nodenum-1:\n",
    "            return 0\n",
    "        ans = 0\n",
    "        selected_node = [0]\n",
    "        candidate_node = list(range(1, self.nodenum))\n",
    "        Q = [(self.maps[j][0], j) for j in candidate_node]\n",
    "        heapq.heapify(Q)\n",
    "        \n",
    "        while candidate_node:\n",
    "            while Q and Q[0][1] in selected_node:\n",
    "                heapq.heappop(Q)\n",
    "            min_dist, pt = Q[0]\n",
    "            heapq.heappop(Q)\n",
    "            \n",
    "            ans += min_dist\n",
    "            selected_node.append(pt)\n",
    "            candidate_node.remove(pt)\n",
    "            for next_pt in candidate_node:\n",
    "                heapq.heappush(Q, (self.maps[pt][next_pt], next_pt))\n",
    "        return ans\n",
    "    # O(V^2)实现\n",
    "    def prim(self):\n",
    "        if self.nodenum <= 0 or self.edgenum < self.nodenum-1:\n",
    "            return 0\n",
    "        ans = 0\n",
    "        inf = 1<<31\n",
    "        vis = [0] * self.nodenum\n",
    "        min_dist = [inf] * self.nodenum\n",
    "        min_dist[0] = 0\n",
    "        for i in range(self.nodenum):\n",
    "            u, gmin = -1, inf\n",
    "            for j in range(self.nodenum):\n",
    "                if not vis[j] and min_dist[j] <= gmin:\n",
    "                    gmin = min_dist[j]\n",
    "                    u = j\n",
    "            ans += gmin\n",
    "            vis[u] = 1\n",
    "            for j in range(self.nodenum):\n",
    "                if not vis[j]:\n",
    "                    min_dist[j] = min(min_dist[j], self.maps[u][j])\n",
    "        return ans"
   ]
  },
  {
   "cell_type": "markdown",
   "metadata": {
    "heading_collapsed": true
   },
   "source": [
    "## MaxArea"
   ]
  },
  {
   "cell_type": "code",
   "execution_count": null,
   "metadata": {
    "code_folding": [],
    "hidden": true
   },
   "outputs": [],
   "source": [
    "# 85\n",
    "class Solution(object):\n",
    "    def maximalRectangle(self, matrix): \n",
    "        if len(matrix) == 0 or len(matrix[0]) == 0: return 0\n",
    "        M, N = len(matrix), len(matrix[0])\n",
    "        H = [0] * (N+1)\n",
    "        ans = 0\n",
    "        for i, row in enumerate(matrix):\n",
    "            stack = []\n",
    "            hs = row + [\"0\"]\n",
    "            for j, val in enumerate(hs):\n",
    "                if val == \"1\": H[j] += 1\n",
    "                else: H[j] = 0\n",
    "                while stack and H[j] < H[stack[-1]]:\n",
    "                    s = stack.pop(-1)\n",
    "                    ans = max(ans, H[s]*(j-stack[-1]-1 if stack else j))\n",
    "                stack.append(j)\n",
    "        return ans\n",
    "# 221\n",
    "class Solution(object):\n",
    "    def maximalSquare(self, mat):\n",
    "        if len(mat) == 0 or len(mat[0]) == 0: return 0\n",
    "        M, N = len(mat), len(mat[0])\n",
    "        dp = [[0]*(N+1) for _ in range(M+1)]\n",
    "        ans = 0\n",
    "        for i in range(M):\n",
    "            for j in range(N):\n",
    "                if mat[i][j] == '0': continue\n",
    "                dp[i+1][j+1] = min(dp[i][j], dp[i][j+1], dp[i+1][j]) + 1\n",
    "                ans = max(ans, dp[i+1][j+1])\n",
    "        return ans * ans"
   ]
  },
  {
   "cell_type": "markdown",
   "metadata": {
    "heading_collapsed": true
   },
   "source": [
    "## SegmentTree"
   ]
  },
  {
   "cell_type": "code",
   "execution_count": null,
   "metadata": {
    "code_folding": [],
    "hidden": true
   },
   "outputs": [],
   "source": [
    "# pos, left, right 一般为 0,0,N-1\n",
    "# 区间更新 区间查询\n",
    "class SegmentTree(object):\n",
    "    def __init__(self, n):\n",
    "        self.tree = [0]*4*n\n",
    "        self.lazy = [0]*4*n\n",
    "        self.mod = 10**9+7\n",
    "    # 根据数组建树\n",
    "    def build_tree(self, pos, left, right, nums):\n",
    "        if left == right:\n",
    "            self.tree[pos] = nums[left]\n",
    "            return\n",
    "        mid = (left+right)>>1\n",
    "        self.build_tree(2*pos+1, left, mid, nums)\n",
    "        self.build_tree(2*pos+2, mid+1, right, nums)\n",
    "        self.tree[pos] = self.tree[2*pos+1]+self.tree[2*pos+2]\n",
    "    #单点更新\n",
    "    def update(self, pos, left, right, index, val):\n",
    "        if left == right and left == index:\n",
    "            self.tree[pos] = val\n",
    "            return\n",
    "        mid = (left+right)>>1\n",
    "        if mid >= index: self.update(2*pos+1, left, mid, index, val)\n",
    "        else: self.update(2*pos+2, mid+1, right, index, val)\n",
    "        self.tree[pos] = self.tree[2*pos+1]+self.tree[2*pos+2]\n",
    "    # 区间更新\n",
    "    def update(self, pos, left, right, curLeft, curRight, nums):\n",
    "        if right < curLeft or left > curRight: return\n",
    "        if left == right and curLeft<=left<=curRight:\n",
    "            self.tree[pos] = nums[left]\n",
    "            return\n",
    "        mid = (left+right)>>1\n",
    "        self.update(2*pos+1, left, mid, curLeft, curRight, val)\n",
    "        self.update(2*pos+2, mid+1, right, curLeft, curRight, val)\n",
    "        self.tree[pos] = (self.tree[2*pos+1] + self.tree[2*pos+2]) % self.mod\n",
    "    # 区间查询\n",
    "    def query(self, pos, left, right, curLeft, curRight):\n",
    "        if right < curLeft or left > curRight: return 0\n",
    "        if left >= curLeft and right <= curRight:\n",
    "            return self.tree[pos]\n",
    "        mid = (left+right)>>1\n",
    "        return (self.query(2*pos+1, left, mid, curLeft, curRight) + self.query(2*pos+2, mid+1, right, curLeft, curRight))%self.mod\n",
    "    # 区间lazy优化\n",
    "    def push_down(self, pos, left, right):\n",
    "        if self.lazy[pos] == 0: return\n",
    "        self.tree[pos] += self.lazy[pos] * (right-left+1)\n",
    "        if left < right:\n",
    "            self.lazy[2*pos+1] += self.lazy[pos]\n",
    "            self.lazy[2*pos+2] += self.lazy[pos]\n",
    "        self.lazy[pos] = 0  \n",
    "    def update(self, pos, left, right, curLeft, curRight, val):\n",
    "        self.push_down(pos, left, right)\n",
    "        if right < curLeft or left > curRight: return\n",
    "        if left>=curLeft and right<=curRight:\n",
    "            self.lazy[pos] = val\n",
    "            self.push_down(pos, left, right)\n",
    "            return\n",
    "        mid = (left+right)>>1\n",
    "        self.update(2*pos+1, left, mid, curLeft, curRight, val)\n",
    "        self.update(2*pos+2, mid+1, right, curLeft, curRight, val)\n",
    "        self.tree[pos] = (self.tree[2*pos+1] + self.tree[2*pos+2]) % self.mod\n",
    "    def query(self, pos, left, right, curLeft, curRight):\n",
    "        if right < curLeft or left > curRight: return 0\n",
    "        self.push_down(pos, left, right)\n",
    "        if left>=curLeft and right<=curRight:\n",
    "            return self.tree[pos]\n",
    "        mid = (left+right)>>1\n",
    "        return (self.query(2*pos+1, left, mid, curLeft, curRight) + self.query(2*pos+2, mid+1, right, curLeft, curRight))%self.mod"
   ]
  },
  {
   "cell_type": "markdown",
   "metadata": {
    "heading_collapsed": true
   },
   "source": [
    "## Optimization"
   ]
  },
  {
   "cell_type": "code",
   "execution_count": null,
   "metadata": {
    "hidden": true
   },
   "outputs": [],
   "source": [
    "# SGD\n",
    "# 1515"
   ]
  },
  {
   "cell_type": "markdown",
   "metadata": {},
   "source": [
    "# Problems"
   ]
  },
  {
   "cell_type": "code",
   "execution_count": 3,
   "metadata": {},
   "outputs": [
    {
     "name": "stdout",
     "output_type": "stream",
     "text": [
      "5\n"
     ]
    }
   ],
   "source": [
    "import sys\n",
    "FILE = 0\n",
    "inp = sys.stdin if not FILE else open('input.txt', 'r')\n",
    "N,M,K = list(map(int, inp.readline().strip().split(' ')))\n",
    "arr = list(map(int, inp.readline().strip().split(' ')))\n",
    "\n",
    "min_val = 1<<31\n",
    "ans = 0\n",
    "stack = []\n",
    "for i, val in enumerate(arr):\n",
    "    while stack and stack[-1] > val: stack.pop(-1)\n",
    "    stack.append(val)\n",
    "    if i>=M and arr[i-M] == stack[0]: stack = stack[1:]\n",
    "    min_val = stack[0]\n",
    "    if i >= M-1: ans += int(min_val>=K)\n",
    "print(ans)"
   ]
  },
  {
   "cell_type": "code",
   "execution_count": 20,
   "metadata": {},
   "outputs": [
    {
     "name": "stdout",
     "output_type": "stream",
     "text": [
      "12\n"
     ]
    }
   ],
   "source": [
    "import sys\n",
    "FILE = 1\n",
    "inp = sys.stdin if not FILE else open('input.txt', 'r')\n",
    "N, K, D = list(map(int, inp.readline().strip().split(' ')))\n",
    "ans, mod = 0, 998244353\n",
    "dp = [[[0,0] for i in range(N+1)] for _ in range(N+1)]\n",
    "for cur in range(1, N+1):\n",
    "    if cur <= K:\n",
    "        dp[1][cur] = [1, 0] if cur < D else [0, 1]\n",
    "for n in range(2, N+1):\n",
    "    for cur in range(1, K+1):\n",
    "        for zsum in range(n-1, N+1-cur):\n",
    "            if cur < D: \n",
    "                dp[n][cur+zsum][0] += dp[n-1][zsum][0]\n",
    "                dp[n][cur+zsum][1] += dp[n-1][zsum][1]\n",
    "            else: \n",
    "                dp[n][cur+zsum][1] += sum(dp[n-1][zsum])\n",
    "            dp[n][cur+zsum][0] %= mod\n",
    "            dp[n][cur+zsum][1] %= mod\n",
    "#             print(n, cur, zsum, 'dp[%d][%d]'%(n,cur+zsum), dp[n][cur+zsum])\n",
    "for n in range(1, N+1):\n",
    "    ans = (ans + dp[n][N][1]) % mod\n",
    "print(ans)"
   ]
  },
  {
   "cell_type": "code",
   "execution_count": 32,
   "metadata": {},
   "outputs": [
    {
     "name": "stdout",
     "output_type": "stream",
     "text": [
      "Yes\n",
      "No\n"
     ]
    }
   ],
   "source": [
    "import sys, heapq\n",
    "FILE = 1\n",
    "inp = sys.stdin if not FILE else open('input.txt', 'r')\n",
    "inf = 1<<31\n",
    "T = int(inp.readline().strip())\n",
    "for epoch in range(T):\n",
    "    N, M, K = map(int, inp.readline().strip().split(' '))\n",
    "    edges = [[inf]*(N+1) for _ in range(N+1)]\n",
    "    for _ in range(M):\n",
    "        a, b, c = map(int, inp.readline().strip().split(' '))\n",
    "        edges[a][b] = edges[b][a] = c\n",
    "    arr, node_id, dd = [], -1, dict()\n",
    "    for i in range(1, N+1):\n",
    "        for j in range(i+1, N+1):\n",
    "            if edges[i][j] <= K:\n",
    "                arr.append((i, j))\n",
    "                dd[i] = dd.get(i, []) + [j]\n",
    "                dd[j] = dd.get(j, []) + [i]\n",
    "    res = set([1])\n",
    "    def foo(i):\n",
    "        if i not in dd:\n",
    "            return\n",
    "        for j in dd[i]:\n",
    "            if j not in res:\n",
    "                res.add(j)\n",
    "                foo(j)\n",
    "    foo(1)\n",
    "    if len(res) < N: print('No')\n",
    "    else: print('Yes')"
   ]
  },
  {
   "cell_type": "code",
   "execution_count": 53,
   "metadata": {},
   "outputs": [
    {
     "name": "stdout",
     "output_type": "stream",
     "text": [
      "7.11/0\n"
     ]
    }
   ],
   "source": [
    "import sys, collections\n",
    "import datetime as dt\n",
    "FILE = 1\n",
    "inp = sys.stdin if not FILE else open('input.txt', 'r')\n",
    "inf = 1<<31\n",
    "N, M = map(int, inp.readline().strip().split(' '))\n",
    "edges = collections.defaultdict(dict)\n",
    "for _ in range(M):\n",
    "    u, v, t = map(int, inp.readline().strip().split(' '))\n",
    "    edges[u][v] = edges[v][u] = t\n",
    "start, end, cur_time = inp.readline().strip().split(' ')\n",
    "start, end = int(start), int(end)\n",
    "def shortest_path(edges, start, end):\n",
    "    Q = [(0, start)]\n",
    "    vis = set()\n",
    "    while 1:\n",
    "        cost, cur = heapq.heappop(Q)\n",
    "        if cur in vis: continue\n",
    "        vis.add(cur)\n",
    "        if cur == end: return cost\n",
    "        for nxt in edges[cur]:\n",
    "            heapq.heappush(Q, (cost+edges[cur][nxt], nxt))\n",
    "ans = shortest_path(edges, start, end)\n",
    "the_time = dt.datetime.strptime(cur_time, '%m.%d/%H')\n",
    "new_time = the_time + dt.timedelta(hours=ans)\n",
    "print(str(new_time.month)+'.'+str(new_time.day)+'/'+str(new_time.hour))"
   ]
  },
  {
   "cell_type": "code",
   "execution_count": 7,
   "metadata": {},
   "outputs": [
    {
     "name": "stdout",
     "output_type": "stream",
     "text": [
      "010\n",
      "111\n",
      "010\n"
     ]
    }
   ],
   "source": [
    "import sys, collections\n",
    "FILE = 1\n",
    "inp = sys.stdin if not FILE else open('input.txt', 'r')\n",
    "N = int(inp.readline().strip())\n",
    "mat = []\n",
    "for _ in range(N):\n",
    "    mat.append(list(inp.readline().strip()))\n",
    "if N > 2:\n",
    "    F = dict()\n",
    "    def father(x):\n",
    "        if x not in F: \n",
    "            F[x] = x\n",
    "            return x\n",
    "        if x!=F[x]:\n",
    "            F[x] = father(F[x])\n",
    "        return F[x]\n",
    "    for i in range(1, N-1):\n",
    "        for j in range(1, N-1):\n",
    "            val = mat[i][j]\n",
    "            if val == '1': continue\n",
    "            for di, dj in [(i,j+1),(i+1,j)]:\n",
    "                if di<N-1 and dj<N-1 and mat[di][dj] == '0':\n",
    "                    F[father((di,dj))] = father((i, j))\n",
    "    for j in [0, N-1]:\n",
    "        for i in range(N):\n",
    "            if mat[i][j] == '1': continue\n",
    "            for di, dj in [(i,j+1),(i+1,j)]:\n",
    "                if di<N and dj<N and mat[di][dj] == '0':\n",
    "                    F[father((di,dj))] = father((i, j))\n",
    "    for i in [0, N-1]:\n",
    "        for j in range(1, N-1):\n",
    "            if mat[i][j] == '1': continue\n",
    "            for di, dj in [(i,j+1),(i+1,j)]:\n",
    "                if di<N and dj<N and mat[di][dj] == '0':\n",
    "                    F[father((di,dj))] = father((i, j))\n",
    "    for i in range(1, N-1):\n",
    "        for j in range(1, N-1):\n",
    "            if mat[i][j] == '0':\n",
    "                fi, fj = father((i, j))\n",
    "                if 0<fi<N-1 and 0<fj<N-1: mat[i][j] = '1'\n",
    "print('\\n'.join([''.join(line) for line in mat]))"
   ]
  },
  {
   "cell_type": "code",
   "execution_count": 13,
   "metadata": {},
   "outputs": [
    {
     "name": "stdout",
     "output_type": "stream",
     "text": [
      "1111\n",
      "0111\n",
      "1111\n",
      "0010\n"
     ]
    }
   ],
   "source": [
    "import sys, collections\n",
    "FILE = 1\n",
    "inp = sys.stdin if not FILE else open('input.txt', 'r')\n",
    "N = int(inp.readline().strip())\n",
    "mat = []\n",
    "for _ in range(N):\n",
    "    mat.append(list(inp.readline().strip()))\n",
    "if N > 2:\n",
    "    vis = set()\n",
    "    def bfs(x, y):\n",
    "        path = []\n",
    "        Q = collections.deque([(x, y)])\n",
    "        vis.add((x, y))\n",
    "        flag = 0\n",
    "        while Q:\n",
    "            i, j = Q.popleft()\n",
    "            if i == 0 or i == N-1 or j==0 or j == N-1: flag = 1\n",
    "            path.append((i, j))\n",
    "            for di, dj in [(i,j+1),(i+1, j),(i-1,j),(i,j-1)]:\n",
    "                if 0<=di<N and 0<=dj<N and mat[di][dj]=='0' and (di,dj) not in vis:\n",
    "                        Q.append((di, dj))\n",
    "                        vis.add((di, dj))\n",
    "        if not flag:\n",
    "            for i, j in path:\n",
    "                mat[i][j] = '1'\n",
    "    for i in range(N):\n",
    "        for j in range(N):\n",
    "            if mat[i][j] == '0' and (i, j) not in vis:\n",
    "                bfs(i, j)\n",
    "print('\\n'.join([''.join(line) for line in mat]))"
   ]
  },
  {
   "cell_type": "code",
   "execution_count": 3,
   "metadata": {},
   "outputs": [
    {
     "name": "stdout",
     "output_type": "stream",
     "text": [
      "23\n"
     ]
    }
   ],
   "source": [
    "import sys, collections\n",
    "FILE = 1\n",
    "inp = sys.stdin if not FILE else open('input.txt', 'r')\n",
    "M, N = map(int, inp.readline().strip().split(' '))\n",
    "mat = []\n",
    "for i in range(M):\n",
    "    mat.append(map(int, inp.readline().strip().split(' ')))\n",
    "if M == 0 or N == 0: print(0)\n",
    "else:\n",
    "    dp = [[0]*N for _ in range(M)]\n",
    "    dp[-1][-1] = mat[-1][-1]\n",
    "    for i in range(M-1, -1, -1):\n",
    "        for j in range(N-1, -1, -1):\n",
    "            if i == M-1 and j == N-1: dp[i][j] = mat[i][j]\n",
    "            elif i == M-1: dp[i][j] = mat[i][j] + dp[i][j+1]\n",
    "            elif j == N-1: dp[i][j] = mat[i][j] + dp[i+1][j]\n",
    "            else: dp[i][j] = mat[i][j] + max(dp[i+1][j], dp[i][j+1])\n",
    "    print(dp[0][0])"
   ]
  },
  {
   "cell_type": "code",
   "execution_count": null,
   "metadata": {},
   "outputs": [],
   "source": [
    "# 小米第二题NMS\n",
    "import sys, collections\n",
    "from rtree import index\n",
    "idx = index.Index()\n",
    "FILE = 1\n",
    "inp = sys.stdin if not FILE else open('input.txt', 'r')\n",
    "N, thres = inp.readline().strip().split(' ')\n",
    "N, thres = int(N), float(thres)\n",
    "arr = []\n",
    "raw_arr = []\n",
    "for _ in range(N):\n",
    "    line = inp.readline().strip()\n",
    "    raw_arr.append(line)\n",
    "    x1, y1, x2, y2, sc = map(float, line.split(' '))\n",
    "    arr.append([x1, y1, x2, y2, (x2-x1)*(y2-y1), score])\n",
    "    if arr[-1][-2]>0.: idx.insert(_, (x1, y1, x2, y2))\n",
    "def get_score(rec1, rec2):\n",
    "    x1, y1, x2, y2, area1, s1 = rec1\n",
    "    a1, b1, a2, b2, area2, s2 = rec2\n",
    "    if x1>=a2 or y1>=b2 or x2<=a1 or y2<=b1: return 0.\n",
    "    minx, miny = max(x1, a1), max(y1, b1)\n",
    "    maxx, maxy = min(x2, a2), min(y2, b2)\n",
    "    inter = (maxx-minx)*(maxy-miny)\n",
    "    return inter*1./(area1+area2-inter)\n",
    "failes = set()\n",
    "for i in range(N):\n",
    "    if arr[i][-2] > 0.:\n",
    "        rec0, s0 = tuple(arr[i][:4]), arr[-1]\n",
    "        for xid, rec in clf.intersection(rec0):\n",
    "            area1, s1 = arr[xid][-2:]\n",
    "            t0 = get_score(i, xid)\n",
    "            if t0 < thres: continue\n",
    "            if s0 < s1: failes.add(i)\n",
    "            else: failes.add(xid)\n",
    "ans = []\n",
    "for i in range(N):\n",
    "    if i not in failes and arr[i][-2]>0.:\n",
    "        ans.append(raw_arr[i])\n",
    "print('\\n'.join(ans))"
   ]
  },
  {
   "cell_type": "code",
   "execution_count": null,
   "metadata": {},
   "outputs": [],
   "source": [
    "import sys, collections\n",
    "FILE = 1\n",
    "inp = sys.stdin if not FILE else open('input.txt', 'r')\n",
    "start, end = map(int, inp.readline().strip().split(' '))\n",
    "N = int(inp.readline().strip().split(' '))\n",
    "edges = [[0]*101 for _ in range(101)]\n",
    "edg = [[] for _ in range(101)]\n",
    "for _ in range(N):\n",
    "    a, b = map(int, inp.readline().strip().split(' '))\n",
    "    if not edges[a][b] and not edges[b][a]:\n",
    "        edges[a][b] = edges[b][a] = 1\n",
    "        edges[a].append(b)\n",
    "        edges[b].append(a)\n",
    "for i in range(101):\n",
    "    edges[i].sort()\n",
    "def bfs(s):\n",
    "    vis = [0] * 101\n",
    "    Q = collections.deque([s])\n",
    "    vis[s] = 1\n",
    "    ans = [s]\n",
    "    while Q:\n",
    "        cur = Q.popleft()\n",
    "        for nxt in edges[cur]:\n",
    "            if not vis[nxt]:\n",
    "                ans.append(nxt)\n",
    "                Q.append(nxt)\n",
    "                vis[nxt] = 1\n",
    "    return ans\n",
    "arr = dict()\n",
    "for i in range(101):\n",
    "    if len(edges[i]) == 0: continue\n",
    "    arr[i] = bfs(i)\n"
   ]
  },
  {
   "cell_type": "code",
   "execution_count": 1,
   "metadata": {},
   "outputs": [
    {
     "name": "stdout",
     "output_type": "stream",
     "text": [
      "27\n"
     ]
    }
   ],
   "source": [
    "import sys, collections\n",
    "FILE = 1\n",
    "inp = sys.stdin if not FILE else open('input.txt', 'r')\n",
    "N, P = map(int, inp.readline().strip().split(' '))\n",
    "arr = []\n",
    "# num, money, power\n",
    "for _ in range(N):\n",
    "    arr.append(map(int, inp.readline().strip().split(' ')))\n",
    "dp = [0] * (P+10)\n",
    "for i in range(N):\n",
    "    money, power = arr[i][1], arr[i][2]\n",
    "    for j in range(money, P+1):\n",
    "        dp[j] = max(dp[j], dp[j-money]+power)\n",
    "print(dp[P])"
   ]
  },
  {
   "cell_type": "code",
   "execution_count": 3,
   "metadata": {},
   "outputs": [
    {
     "name": "stdout",
     "output_type": "stream",
     "text": [
      "YES\n",
      "NO\n"
     ]
    }
   ],
   "source": [
    "import sys, collections\n",
    "FILE = 1\n",
    "inp = sys.stdin if not FILE else open('input.txt', 'r')\n",
    "T = int(inp.readline().strip())\n",
    "for t in range(T):\n",
    "    M, N = map(int, inp.readline().strip().split(' '))\n",
    "    mat = []\n",
    "    for _ in range(M):\n",
    "        mat.append(list(inp.readline().strip()))\n",
    "    if M == 0 or N == 0: print('NO')\n",
    "    else:\n",
    "        start, end = [-1, -1], [-1, -1]\n",
    "        for i in range(M):\n",
    "            for j in range(N):\n",
    "                if mat[i][j] == 'S': start = (i, j)\n",
    "                elif mat[i][j] == 'E': end = (i, j)\n",
    "        if start[0] == -1 or end[0] == -1: print('NO')\n",
    "        else:\n",
    "            def bfs():\n",
    "                Q = collections.deque([start])\n",
    "                ans = 'NO'\n",
    "                while Q:\n",
    "                    x, y = Q.popleft()\n",
    "                    if mat[x][y] == 'E':\n",
    "                        ans = 'YES'\n",
    "                        break\n",
    "                    mat[x][y] = '#'\n",
    "                    for dx, dy in [(x-1, y), (x+1, y), (x, y-1), (x, y+1)]:\n",
    "                        if 0<=dx<M and 0<=dy<N and mat[dx][dy]!='#':\n",
    "                            Q.append((dx, dy))\n",
    "                return ans\n",
    "            print(bfs())"
   ]
  },
  {
   "cell_type": "code",
   "execution_count": 3,
   "metadata": {},
   "outputs": [
    {
     "name": "stdout",
     "output_type": "stream",
     "text": [
      "True\n"
     ]
    }
   ],
   "source": [
    "import sys, collections\n",
    "FILE = 0\n",
    "inp = sys.stdin if not FILE else open('input.txt', 'r')\n",
    "def isMatch(s, p):\n",
    "    m, n = len(s), len(p)\n",
    "    dp = [[False]*(n+1) for _ in range(m+1)]\n",
    "    dp[0][0] = True\n",
    "    for i in range(1, n+1):\n",
    "        dp[0][i] = dp[0][i-1] and p[i-1] == '*'\n",
    "    for i in range(1, m+1):\n",
    "        for j in range(1, n+1):\n",
    "            if p[j-1] in [s[i-1], '?']:\n",
    "                dp[i][j] = dp[i-1][j-1]\n",
    "            elif p[j-1] == '*':\n",
    "                dp[i][j] = dp[i][j-1] or dp[i-1][j]\n",
    "    return dp[m][n]\n",
    "string, pat = inp.readline().strip().split(',')\n",
    "string, pat = string[1:-1], pat[1:-1]\n",
    "print(isMatch(string, pat))"
   ]
  },
  {
   "cell_type": "code",
   "execution_count": 8,
   "metadata": {},
   "outputs": [
    {
     "name": "stdout",
     "output_type": "stream",
     "text": [
      "1\n",
      "0\n",
      "-1\n"
     ]
    }
   ],
   "source": [
    "import sys, collections\n",
    "FILE = 1\n",
    "inp = sys.stdin if not FILE else open('input.txt', 'r')\n",
    "T = int(inp.readline().strip())\n",
    "inf = 1<<31\n",
    "for t in range(T):\n",
    "    M, N = map(int, inp.readline().strip().split(' '))\n",
    "    mat = []\n",
    "    for _ in range(M):\n",
    "        mat.append(list(inp.readline().strip()))\n",
    "    if M == 0 or N == 0: print(-1)\n",
    "    else:\n",
    "        def bfs(x, y):\n",
    "            Q = collections.deque([(x, y)])\n",
    "            vis = [[inf]*N for _ in range(M)]\n",
    "            vis[x][y] = 0\n",
    "            ans = inf\n",
    "            while Q:\n",
    "#                 print(Q)\n",
    "                i, j = Q.popleft()\n",
    "                if i == 0 or i == M-1 or j==0 or j==N-1: ans = min(ans, vis[i][j])\n",
    "                for di, dj in [(i-1, j), (i+1, j), (i, j-1), (i, j+1)]:\n",
    "                    if 0<=di<M and 0<=dj<N and mat[di][dj] not in ['@','#'] and vis[di][dj]>vis[i][j]+int(mat[di][dj]=='*'):\n",
    "                        vis[di][dj] = vis[i][j]+int(mat[di][dj]=='*')\n",
    "                        Q.append((di, dj))\n",
    "            return ans if ans < inf else -1\n",
    "        x, y = -1, -1\n",
    "        for i in range(M):\n",
    "            for j in range(N):\n",
    "                if mat[i][j] == '@': \n",
    "                    x, y = i, j\n",
    "                    break\n",
    "        if x == -1: print(-1)\n",
    "        elif x==0 or x == M-1 or y==0 or y==N-1: print(0)\n",
    "        else:\n",
    "#             print(x, y)\n",
    "            print(bfs(x, y))"
   ]
  },
  {
   "cell_type": "code",
   "execution_count": 9,
   "metadata": {},
   "outputs": [
    {
     "name": "stdout",
     "output_type": "stream",
     "text": [
      "4\n",
      "0\n",
      "2\n"
     ]
    }
   ],
   "source": [
    "import sys, collections\n",
    "FILE = 1\n",
    "inp = sys.stdin if not FILE else open('input.txt', 'r')\n",
    "N,Q = map(int,inp.readline().strip().split(' '))\n",
    "parent = [-1]\n",
    "for val in inp.readline().strip().split(' '):\n",
    "    parent.append(int(val)-1)\n",
    "class TreeAncestor(object):\n",
    "    def __init__(self, n, parent):\n",
    "        self.dp = [[] for _ in range(n)]\n",
    "        for i in range(n):\n",
    "            self.dp[i].append(parent[i])\n",
    "        j = 1\n",
    "        while 1:\n",
    "            allneg = 1\n",
    "            for i in range(n):\n",
    "                nxt = self.dp[self.dp[i][j-1]][j-1] if self.dp[i][j-1]!=-1 else -1\n",
    "                self.dp[i].append(nxt)\n",
    "                if nxt!=-1: allneg = 0\n",
    "            if allneg: break\n",
    "            j+=1\n",
    "\n",
    "\n",
    "    def getKthAncestor(self, node, k):\n",
    "        if k == 0 or node == -1: return node\n",
    "        pos, ans = 0, node\n",
    "        while k and ans!=-1:\n",
    "            if pos >= len(self.dp[ans]): return -1\n",
    "            if k&1: ans = self.dp[ans][pos]\n",
    "            pos += 1\n",
    "            k >>= 1\n",
    "        return ans\n",
    "tree = TreeAncestor(N, parent)\n",
    "for _ in range(Q):\n",
    "    x, k = map(int,inp.readline().strip().split(' '))\n",
    "    print(tree.getKthAncestor(x-1, k)+1)"
   ]
  },
  {
   "cell_type": "code",
   "execution_count": 7,
   "metadata": {},
   "outputs": [
    {
     "name": "stdout",
     "output_type": "stream",
     "text": [
      "[2, 3]\n",
      "[2, 2, 2]\n",
      "[2, 5]\n",
      "[11]\n",
      "[3, 7]\n",
      "[19]\n",
      "[89]\n",
      "[2, 11]\n"
     ]
    },
    {
     "ename": "ValueError",
     "evalue": "invalid literal for int() with base 10: ''",
     "output_type": "error",
     "traceback": [
      "\u001b[1;31m---------------------------------------------------------------------------\u001b[0m",
      "\u001b[1;31mValueError\u001b[0m                                Traceback (most recent call last)",
      "\u001b[1;32m<ipython-input-7-86060b897d0d>\u001b[0m in \u001b[0;36m<module>\u001b[1;34m()\u001b[0m\n\u001b[0;32m     11\u001b[0m \u001b[0mtable\u001b[0m \u001b[1;33m=\u001b[0m \u001b[0mpreprocess\u001b[0m\u001b[1;33m(\u001b[0m\u001b[1;36m1000000\u001b[0m\u001b[1;33m)\u001b[0m\u001b[1;33m\u001b[0m\u001b[0m\n\u001b[0;32m     12\u001b[0m \u001b[1;32mwhile\u001b[0m \u001b[0mTrue\u001b[0m\u001b[1;33m:\u001b[0m\u001b[1;33m\u001b[0m\u001b[0m\n\u001b[1;32m---> 13\u001b[1;33m     \u001b[0mn\u001b[0m \u001b[1;33m=\u001b[0m \u001b[0mint\u001b[0m\u001b[1;33m(\u001b[0m\u001b[0minp\u001b[0m\u001b[1;33m.\u001b[0m\u001b[0mreadline\u001b[0m\u001b[1;33m(\u001b[0m\u001b[1;33m)\u001b[0m\u001b[1;33m.\u001b[0m\u001b[0mstrip\u001b[0m\u001b[1;33m(\u001b[0m\u001b[1;33m)\u001b[0m\u001b[1;33m)\u001b[0m\u001b[1;33m\u001b[0m\u001b[0m\n\u001b[0m\u001b[0;32m     14\u001b[0m     \u001b[0mres\u001b[0m \u001b[1;33m=\u001b[0m \u001b[1;33m[\u001b[0m\u001b[1;33m]\u001b[0m\u001b[1;33m\u001b[0m\u001b[0m\n\u001b[0;32m     15\u001b[0m     \u001b[1;32mif\u001b[0m \u001b[0mn\u001b[0m \u001b[1;33m==\u001b[0m \u001b[1;36m2\u001b[0m\u001b[1;33m:\u001b[0m \u001b[0mres\u001b[0m\u001b[1;33m.\u001b[0m\u001b[0mappend\u001b[0m\u001b[1;33m(\u001b[0m\u001b[0mn\u001b[0m\u001b[1;33m)\u001b[0m\u001b[1;33m\u001b[0m\u001b[0m\n",
      "\u001b[1;31mValueError\u001b[0m: invalid literal for int() with base 10: ''"
     ]
    }
   ],
   "source": [
    "import sys, collections, math, bisect\n",
    "FILE = 1\n",
    "inp = sys.stdin if not FILE else open('input.txt', 'r')\n",
    "def preprocess(N):\n",
    "    ans = [0] * N\n",
    "    ans[0] = ans[1] = 1\n",
    "    for i in range(2, int(math.sqrt(N))):\n",
    "        for j in range(i*i,N,i):\n",
    "            ans[j] = 1\n",
    "    return [i for i in range(2, N) if ans[i]==0]\n",
    "table = preprocess(1000000)\n",
    "while True:\n",
    "    n = int(inp.readline().strip())\n",
    "    res = []\n",
    "    if n == 2: res.append(n)\n",
    "    else:\n",
    "        idx = len(table)-1\n",
    "        while n > 1:\n",
    "            idx = bisect.bisect_left(table, n)\n",
    "            if n%table[idx]==0:\n",
    "                res.append(table[idx])\n",
    "                n = n/table[idx]\n",
    "            else:\n",
    "                while idx>=0 and n%table[idx]!=0:\n",
    "                    idx -= 1\n",
    "                res.append(table[idx])\n",
    "                n = n / table[idx]\n",
    "    print(res[::-1])"
   ]
  },
  {
   "cell_type": "code",
   "execution_count": 1,
   "metadata": {},
   "outputs": [
    {
     "name": "stdout",
     "output_type": "stream",
     "text": [
      "4\n",
      "0 0 1 5\n"
     ]
    }
   ],
   "source": [
    "import sys, collections, math, bisect\n",
    "FILE = 1\n",
    "inf = 1<<31\n",
    "inp = sys.stdin if not FILE else open('input.txt', 'r')\n",
    "M, N = map(int,inp.readline().strip().split(' '))\n",
    "mat = []\n",
    "for _ in range(M):\n",
    "    mat.append(list(inp.readline().strip()))\n",
    "si, sj = -1, -1\n",
    "for i in range(M):\n",
    "    for j in range(N):\n",
    "        if mat[i][j] == 'T':\n",
    "            si,sj = i, j\n",
    "            break\n",
    "Q = collections.deque([(si,sj,0)])\n",
    "ans = inf\n",
    "res = []\n",
    "while Q:\n",
    "    x, y, cost = Q.popleft()\n",
    "    if cost > ans: break\n",
    "    if mat[x][y]=='X': \n",
    "        ans = min(ans, cost)\n",
    "        res.append((x,y))\n",
    "    mat[x][y] = '1'\n",
    "    for dx,dy in [(x-1,y),(x+1,y),(x,y-1),(x,y+1)]:\n",
    "        if 0<=dx<M and 0<=dy<N and mat[dx][dy]!='1':\n",
    "            Q.append((dx,dy,cost+1))\n",
    "res.sort()\n",
    "print(ans)\n",
    "if ans > 0:\n",
    "    print(' '.join([str(a)+' '+str(b) for a, b in res]))"
   ]
  },
  {
   "cell_type": "code",
   "execution_count": 2,
   "metadata": {},
   "outputs": [
    {
     "name": "stdout",
     "output_type": "stream",
     "text": [
      "9\n",
      "4\n"
     ]
    }
   ],
   "source": [
    "import sys, collections, math, bisect\n",
    "FILE = 1\n",
    "inf = 1<<31\n",
    "inp = sys.stdin if not FILE else open('input.txt', 'r')\n",
    "dd = {(0,4,4,4,4,4,4,4,0,0):0,(0,2,3,2,2,2,2,4,0,0):1,(0,4,6,2,2,2,2,6,0,0):2,\n",
    "      (0,4,4,2,4,2,4,4,0,0):3,(0,2,3,4,4,7,2,2,0,0):4,(0,2,6,2,5,2,4,4,0,0):5,\n",
    "      (0,4,2,2,5,4,4,4,0,0):6,(0,6,6,2,2,2,2,2,0,0):7,(0,4,4,4,5,2,2,4,0,0):9}\n",
    "T = int(inp.readline().strip())\n",
    "for _ in range(T):\n",
    "    N = int(inp.readline().strip())\n",
    "    D = N/10\n",
    "    mat = []\n",
    "    for i in range(N):\n",
    "        mat.append(map(int,inp.readline().strip().split(' ')))\n",
    "    p = []\n",
    "    for i in range(10):\n",
    "        p.append(sum(mat[i*D])/D)\n",
    "    res = dd[tuple(p)]\n",
    "    if res !=0: print(res)\n",
    "    else:\n",
    "        if mat[4*D][4*D]==0: print(0)\n",
    "        else:print(8)"
   ]
  },
  {
   "cell_type": "code",
   "execution_count": null,
   "metadata": {},
   "outputs": [],
   "source": [
    "import sys, collections, math, bisect\n",
    "FILE = 1\n",
    "inf = 1<<31\n",
    "inp = sys.stdin if not FILE else open('input.txt', 'r')\n",
    "T = int(inp.readline().strip())\n",
    "for _ in range(T):\n",
    "    N, K = map(int,inp.readline().strip().split(' '))\n",
    "    arr = map(int,inp.readline().strip().split(' '))\n",
    "    edges = set()\n",
    "    for _ in range(N-1):\n",
    "        a, b = map(int, inp.readline().strip().split(' '))\n",
    "        edges.add((a,b))\n",
    "        edges.add((b,a))\n",
    "    "
   ]
  },
  {
   "cell_type": "code",
   "execution_count": 7,
   "metadata": {},
   "outputs": [
    {
     "name": "stdout",
     "output_type": "stream",
     "text": [
      "5\n"
     ]
    }
   ],
   "source": [
    "import sys, collections, math, bisect\n",
    "FILE = 1\n",
    "inf = 1<<31\n",
    "inp = sys.stdin if not FILE else open('input.txt', 'r')\n",
    "mod = 10**9+7\n",
    "N, M = map(int,inp.readline().strip().split(' '))\n",
    "if M == 1: print(1)\n",
    "elif M == 2: \n",
    "    if N <= 2: print(N)\n",
    "    else:\n",
    "        a, b = 1, 2\n",
    "        for i in range(3, N+1):\n",
    "            c = (a+b)%mod\n",
    "            a = b\n",
    "            b = c\n",
    "        print(c)\n",
    "elif M == 3:\n",
    "    if N <= 2: print(1 if N == 1 else 3)\n",
    "    a, b = 1, 3\n",
    "    for i in range(3, N+1):\n",
    "        c = (a*2+b)%mod\n",
    "        a = b\n",
    "        b = c\n",
    "    print(c)\n",
    "elif M == 4:\n",
    "    dp = [0] * (N+1)\n",
    "    bp = [0] * (N+1)\n",
    "    dp[1], dp[2] = 1, 5\n",
    "    bp[1], bp[2] = 1, 2\n",
    "    for i in range(3, N+1):\n",
    "        bp[i] = (dp[i-1]+bp[i-1])%mod\n",
    "        dp[i] = (dp[i-1]+3*dp[i-2]+2*bp[i-2])%mod\n",
    "    print(dp[N])\n",
    "else:\n",
    "    dp = [0] * (N+1)\n",
    "    bp = [0] * (N+1)\n",
    "    dp[1], dp[2] = 1, 8\n",
    "    for i in range(3, N+1):\n",
    "        dp[i] = (dp[i-1]+7*dp[i-2])"
   ]
  },
  {
   "cell_type": "code",
   "execution_count": 4,
   "metadata": {
    "code_folding": [
     9
    ]
   },
   "outputs": [
    {
     "name": "stdout",
     "output_type": "stream",
     "text": [
      "1 2 3 4 5 6\n",
      "20 21 32 31 30 7\n",
      "19 22 33 34 29 8\n",
      "18 23 36 35 28 9\n",
      "17 24 25 26 27 10\n",
      "16 15 14 13 12 11\n",
      "3\n",
      "19\n",
      "27\n"
     ]
    }
   ],
   "source": [
    "import sys, collections, math, bisect\n",
    "FILE = 1\n",
    "inp = sys.stdin if not FILE else open('input.txt', 'r')\n",
    "T = int(inp.readline().strip())\n",
    "for t in range(T):\n",
    "    N, M = map(int,inp.readline().strip().split(' '))\n",
    "    mat = [[0]*N for _ in range(N)]\n",
    "    if N%2: mat[N/2][N/2] = N*N\n",
    "    cnt = 0\n",
    "    for c in range(N/2):\n",
    "        si, sj, d, w = c, c, c%2, N-c*2\n",
    "        row, col = si, sj\n",
    "        if d==0:\n",
    "            while col < sj+w:\n",
    "                cnt += 1\n",
    "                mat[row][col] = cnt\n",
    "                col += 1\n",
    "            row, col = si+1, sj+w-1\n",
    "            while row < si+w:\n",
    "                cnt += 1\n",
    "                mat[row][col] = cnt\n",
    "                row += 1\n",
    "            row, col = si+w-1, sj+w-2\n",
    "            while col>=sj:\n",
    "                cnt += 1\n",
    "                mat[row][col] = cnt\n",
    "                col -= 1\n",
    "            row, col = si+w-2, sj\n",
    "            while row>si:\n",
    "                cnt += 1\n",
    "                mat[row][col] = cnt\n",
    "                row -= 1\n",
    "        else:\n",
    "            while row<si+w:\n",
    "                cnt += 1\n",
    "                mat[row][col] = cnt\n",
    "                row += 1\n",
    "            row, col = si+w-1, sj+1\n",
    "            while col < sj+w:\n",
    "                cnt += 1\n",
    "                mat[row][col] = cnt\n",
    "                col += 1\n",
    "            row, col = si+w-2, sj+w-1\n",
    "            while row >= si:\n",
    "                cnt += 1\n",
    "                mat[row][col] = cnt\n",
    "                row -= 1\n",
    "            row, col = si, sj+w-2\n",
    "            while col > sj:\n",
    "                cnt += 1\n",
    "                mat[row][col] = cnt\n",
    "                col -= 1\n",
    "    print('\\n'.join([' '.join(map(str,x)) for x in mat]))\n",
    "    for _ in range(M):\n",
    "        i, j = map(int,inp.readline().strip().split(' '))\n",
    "        print(mat[i][j])"
   ]
  },
  {
   "cell_type": "code",
   "execution_count": 15,
   "metadata": {},
   "outputs": [
    {
     "name": "stdout",
     "output_type": "stream",
     "text": [
      "0\n",
      "1\n",
      "2\n",
      "3\n",
      "libm.so\n",
      "libc.so\n",
      "libdl.so\n",
      "0\n",
      "0\n",
      "0\n",
      "0\n",
      "1\n",
      "output2.txt\n",
      "1.txt\n"
     ]
    }
   ],
   "source": [
    "import sys, collections, math, bisect\n",
    "FILE = 1\n",
    "inp = sys.stdin if not FILE else open('input.txt', 'r')\n",
    "class FileSet(object):\n",
    "    def __init__(self):\n",
    "        self.a = {}\n",
    "        self.b = {}\n",
    "        self.id = 0\n",
    "    def get(self, filename):\n",
    "        fid = self.a.get(filename, self.id)\n",
    "        if fid == self.id: \n",
    "            self.a[filename] = fid\n",
    "            self.b[fid] = filename\n",
    "            self.id += 1\n",
    "        return fid\n",
    "def bin_right(arr, idx, xlen):\n",
    "    low, high = 0, xlen\n",
    "    while low < high:\n",
    "        mid = (low+high)>>1\n",
    "        l, r = arr[mid]\n",
    "        if l<=idx<=r: return mid\n",
    "        if idx < l: high = mid\n",
    "        elif idx > r: low = mid+1\n",
    "    return low\n",
    "class Arr(object):\n",
    "    def __init__(self):\n",
    "        self.arr = []\n",
    "        self.len = 0\n",
    "    def add(self, idx):\n",
    "        if not self.len:\n",
    "            self.arr.append([0,0])\n",
    "            self.len += 1\n",
    "            return\n",
    "        loc = bin_right(self.arr, idx, self.len)\n",
    "        if loc>=self.len:\n",
    "            if self.arr[loc-1][1]==idx-1: self.arr[loc-1][1] = idx\n",
    "            else: \n",
    "                self.arr.insert(loc,[idx,idx])\n",
    "                self.len += 1\n",
    "        elif loc==0:\n",
    "            if self.arr[loc][0]==idx+1: self.arr[loc][0] = idx\n",
    "            else:\n",
    "                self.arr.insert(loc, [idx,idx])\n",
    "                self.len += 1\n",
    "        else:\n",
    "            if self.arr[loc-1][1]==idx-1 and self.arr[loc][0]==idx+1:\n",
    "                self.arr[loc-1][1] = self.arr[loc][1]\n",
    "                del self.arr[loc]\n",
    "                self.len -= 1\n",
    "            elif self.arr[loc-1][1]==idx-1: self.arr[loc-1][1] = idx\n",
    "            elif self.arr[loc][0] == idx+1: self.arr[loc][0] = idx\n",
    "            else:\n",
    "                self.arr.insert(loc, [idx,idx])\n",
    "                self.len += 1\n",
    "        \n",
    "    def remove(self, idx):\n",
    "        loc = bin_right(self.arr, idx, self.len)\n",
    "        if self.arr[loc][0]==self.arr[loc][1]:\n",
    "            del self.arr[loc]\n",
    "            self.len -= 1\n",
    "        elif idx == self.arr[loc][0]:\n",
    "            self.arr[loc][0] = idx+1\n",
    "        elif idx == self.arr[loc][1]:\n",
    "            self.arr[loc][1] = idx-1\n",
    "        else:\n",
    "            l, r = self.arr[loc]\n",
    "            self.arr[loc][1] = idx-1\n",
    "            self.arr.insert(loc+1, [idx+1,r])\n",
    "            self.len += 1\n",
    "    \n",
    "T = int(inp.readline().strip())\n",
    "for t in range(T):\n",
    "    N = int(inp.readline().strip())\n",
    "    fs = FileSet()\n",
    "    arrc = Arr()\n",
    "    dd = {}\n",
    "    for _ in range(N):\n",
    "        param = inp.readline().strip().split(' ')\n",
    "        if param[0] == 'open':\n",
    "            if not arrc.len or arrc.arr[0][0]>0: idx = 0\n",
    "            else: idx = arrc.arr[0][1]+1\n",
    "            dd[idx] = fs.get(param[1])\n",
    "            print(idx)\n",
    "            arrc.add(idx)\n",
    "        elif param[0] == 'dup':\n",
    "            if not arrc.len or arrc.arr[0][0]>0: idx = 0\n",
    "            else: idx = arrc.arr[0][1]+1\n",
    "            dd[idx] = dd[int(param[1])]\n",
    "            print(idx)\n",
    "            arrc.add(idx)\n",
    "        elif param[0] == 'dup2':\n",
    "            p1, p2 = map(int, param[1:])\n",
    "            if dd.get(p2, -1) == -1:\n",
    "                dd[p2] = dd[p1]\n",
    "                arrc.add(p2)\n",
    "            else:\n",
    "                dd[p2] = dd[p1]\n",
    "        elif param[0] == 'close':\n",
    "            p1 = int(param[1])\n",
    "            dd[p1] = -1\n",
    "            arrc.remove(p1)\n",
    "        else:\n",
    "            p1 = int(param[1])\n",
    "            print(fs.b[dd[p1]])"
   ]
  },
  {
   "cell_type": "code",
   "execution_count": 21,
   "metadata": {},
   "outputs": [
    {
     "name": "stdout",
     "output_type": "stream",
     "text": [
      "6\n",
      "-1\n",
      "180\n"
     ]
    }
   ],
   "source": [
    "import sys, collections, math, bisect\n",
    "import numpy as np\n",
    "FILE = 1\n",
    "inp = sys.stdin if not FILE else open('input.txt', 'r')\n",
    "T = int(inp.readline().strip())\n",
    "for t in range(T):\n",
    "    N, D = map(int, inp.readline().strip().split(' '))\n",
    "    data, ys = [], []\n",
    "    for _ in range(N):\n",
    "        arr = map(int, inp.readline().strip().split(' '))\n",
    "        data.append(np.array(arr[:-1]))\n",
    "        ys.append(arr[-1])\n",
    "    M, K = map(int, inp.readline().strip().split(' '))\n",
    "    nums = map(int, inp.readline().strip().split(' '))\n",
    "    mats = []\n",
    "    mats.append(np.zeros((D, nums[0]), dtype=int))\n",
    "    if M==2: mats.append(np.zeros((nums[0],nums[1]), dtype=int))\n",
    "    mats.append(np.array([0]*nums[-1]))\n",
    "    dd = [0,0,0]\n",
    "    edges = []\n",
    "    for _ in range(K):\n",
    "        arr = inp.readline().strip().split(' ')\n",
    "        a, b, w = arr[0], arr[1], int(arr[2])\n",
    "        if b == 'output':\n",
    "            i, j = map(int, a.split('_')[1:])\n",
    "            mats[-1][j-1] = w\n",
    "            edges.append((-1, j-1,2))\n",
    "            dd[2] += 1\n",
    "        elif a.startswith('input'):\n",
    "            k = int(a.split('_')[-1])\n",
    "            i, j = map(int, b.split('_')[1:])\n",
    "            mats[0][k-1][j-1] = w\n",
    "            edges.append((0,k-1,j-1,0))\n",
    "            dd[0] += 1\n",
    "        else:\n",
    "            i0,j0 = map(int, a.split('_')[1:])\n",
    "            i1,j1 = map(int, b.split('_')[1:])\n",
    "            mats[1][j0-1][j1-1] = w\n",
    "            edges.append((1,j0-1,j1-1,1))\n",
    "            dd[1] += 1\n",
    "    def compute(mats, data, ys, nums):\n",
    "        loss = 0\n",
    "        for x, y in zip(data, ys):\n",
    "            res = [np.dot(x, mats[0][:,i]) for i in range(nums[0])]\n",
    "            if len(nums)==2:\n",
    "                res = [np.dot(res, mats[1][:,i]) for i in range(nums[1])]\n",
    "            loss += abs(np.dot(res, mats[-1])-y)\n",
    "        return loss\n",
    "    loss = compute(mats, data, ys, nums)\n",
    "    inf = 1<<31\n",
    "    losscur = inf\n",
    "    for _, tup in enumerate(edges):\n",
    "        if len(tup) == 4:\n",
    "            i,j,k,kind = tup\n",
    "            if kind==0 and dd[0] <= 1: continue\n",
    "            if kind==1 and dd[1] <= 1: continue\n",
    "            tmp = mats[i][j][k]\n",
    "            mats[i][j][k] = 0\n",
    "            losscur = min(losscur, compute(mats, data, ys, nums))\n",
    "            mats[i][j][k] = tmp\n",
    "        else:\n",
    "            if dd[0] <= 1: continue\n",
    "            i,j,kind = tup\n",
    "            tmp = mats[i][j]\n",
    "            mats[i][j] = 0\n",
    "            losscur = min(losscur, compute(mats, data, ys, nums))\n",
    "            mats[i][j] = tmp\n",
    "    print(-1 if losscur>=loss else loss-losscur)"
   ]
  },
  {
   "cell_type": "code",
   "execution_count": null,
   "metadata": {},
   "outputs": [],
   "source": [
    "3\n",
    "1 2\n",
    "3 4 7\n",
    "1 5\n",
    "2\n",
    "input_1 hidden_1_1 4\n",
    "input_2 hidden_1_1 -2\n",
    "input_2 hidden_1_2 1\n",
    "hidden_1_1 output 2\n",
    "hidden_1_2 output -2\n",
    "2 2\n",
    "3 4 0\n",
    "4 3 17\n",
    "1 5\n",
    "2\n",
    "input_1 hidden_1_1 4\n",
    "input_2 hidden_1_1 -2\n",
    "input_2 hidden_1_2 1\n",
    "hidden_1_1 output 2\n",
    "hidden_1_2 output -2\n",
    "2 3\n",
    "1 2 3 2\n",
    "2 3 4 8\n",
    "2 12\n",
    "3 2\n",
    "input_1 hidden_1_1 -3\n",
    "input_2 hidden_1_2 -1\n",
    "input_3 hidden_1_3 2\n",
    "input_1 hidden_1_2 -3\n",
    "input_3 hidden_1_2 1\n",
    "hidden_1_1 hidden_2_1 5\n",
    "hidden_1_1 hidden_2_2 -5\n",
    "hidden_1_2 hidden_2_1 -2\n",
    "hidden_1_2 hidden_2_2 -1\n",
    "hidden_1_3 hidden_2_1 -2\n",
    "hidden_2_1 output 2\n",
    "hidden_2_2 output -2"
   ]
  },
  {
   "cell_type": "code",
   "execution_count": 18,
   "metadata": {},
   "outputs": [],
   "source": [
    "# Compute AUROC\n",
    "def auroc(y_list, s_list):\n",
    "    idxs = np.argsort(y_list)[::-1]\n",
    "    y_list = y_list[idxs]\n",
    "    s_list = s_list[idxs]\n",
    "    M = len(s_list)\n",
    "    P = list(s_list).count(1)\n",
    "    N = M - P\n",
    "    auc, curh = 0., 0.\n",
    "    for i in range(M):\n",
    "        if s_list[i] == 1: curh += 1./P\n",
    "        else: auc += curh / N\n",
    "    return auc"
   ]
  },
  {
   "cell_type": "code",
   "execution_count": 19,
   "metadata": {},
   "outputs": [
    {
     "data": {
      "text/plain": [
       "0.75"
      ]
     },
     "execution_count": 19,
     "metadata": {},
     "output_type": "execute_result"
    }
   ],
   "source": [
    "auroc(pred, y)"
   ]
  },
  {
   "cell_type": "code",
   "execution_count": 20,
   "metadata": {},
   "outputs": [
    {
     "data": {
      "text/plain": [
       "0.75"
      ]
     },
     "execution_count": 20,
     "metadata": {},
     "output_type": "execute_result"
    }
   ],
   "source": [
    "from sklearn import metrics\n",
    "import numpy as np\n",
    "y = np.array([0, 0, 1, 1])\n",
    "pred = np.array([0.1, 0.4, 0.35, 0.8])\n",
    "fpr, tpr, thresholds = metrics.roc_curve(y, pred, pos_label=1)\n",
    "metrics.auc(fpr, tpr)"
   ]
  },
  {
   "cell_type": "code",
   "execution_count": 16,
   "metadata": {},
   "outputs": [
    {
     "name": "stdout",
     "output_type": "stream",
     "text": [
      "11\n"
     ]
    }
   ],
   "source": [
    "import sys, collections, math, bisect\n",
    "import numpy as np\n",
    "FILE = 1\n",
    "inp = sys.stdin if not FILE else open('input.txt', 'r')\n",
    "n = list(inp.readline().strip())\n",
    "def next_n(string, idx):\n",
    "    add = 0\n",
    "    for j in range(idx, -1, -1):\n",
    "        string[idx] = int(string[idx])+1\n",
    "        add += string[idx]/10\n",
    "        string[idx] = str(string[idx]%10)\n",
    "        if add == 0: break\n",
    "    return string[:idx+1] + ['0']*(len(string)-idx-1)\n",
    "while 1:\n",
    "    idx = -1\n",
    "    for i in range(len(n)-1, 0, -1):\n",
    "        if n[i]>n[i-1]:\n",
    "            idx = i\n",
    "            break\n",
    "    if idx == -1: break\n",
    "#     print(n)\n",
    "    n = next_n(n, idx-1)\n",
    "print(int(''.join(n)))"
   ]
  },
  {
   "cell_type": "code",
   "execution_count": 1,
   "metadata": {},
   "outputs": [
    {
     "name": "stdout",
     "output_type": "stream",
     "text": [
      "[[2, 3, 3], [3, 3, 4]]\n"
     ]
    }
   ],
   "source": [
    "import sys, collections, math, bisect\n",
    "import numpy as np\n",
    "FILE = 1\n",
    "inp = sys.stdin if not FILE else open('input.txt', 'r')\n",
    "line = inp.readline().strip()[1:-1]\n",
    "def lowbit(x): return x&(-x)\n",
    "def insert(x, tmp, n):\n",
    "    i = x\n",
    "    while i <= n:\n",
    "        if dd[i] < tmp: dd[i] = tmp\n",
    "        i += lowbit(i)\n",
    "def getsum(x):\n",
    "    ret = -1\n",
    "    i = x\n",
    "    while i>=1:\n",
    "        if dd[i] > ret: ret = dd[i]\n",
    "        i -= lowbit(i)\n",
    "    return ret\n",
    "def clear(x, n):\n",
    "    i = x\n",
    "    while i<=n:\n",
    "        dd[i] = 0\n",
    "        i += lowbit(i)\n",
    "def solve(l, r):\n",
    "    if l==r: return\n",
    "    mid = (l+r)>>1\n",
    "    solve(l, mid)\n",
    "    for i in range(mid+1, r+1):\n",
    "        now[i] = arr[i]\n",
    "    arr.sort\n",
    "import sys, collections, math, bisect\n",
    "import numpy as np\n",
    "FILE = 0\n",
    "inp = sys.stdin if not FILE else open('input.txt', 'r')\n",
    "line = inp.readline().strip()[1:-1]\n",
    "if len(line) == 0: print(0)\n",
    "else:\n",
    "    line += ','\n",
    "    arr = []\n",
    "    for tmp in line.split('],')[:-1]:\n",
    "        arr.append(tuple(map(int, tmp[1:].split(','))))\n",
    "    ans = [(min(x),max(x)) for x in arr]\n",
    "    "
   ]
  },
  {
   "cell_type": "code",
   "execution_count": 5,
   "metadata": {},
   "outputs": [
    {
     "name": "stdout",
     "output_type": "stream",
     "text": [
      "['1', '0', '1', '0', '0', '1', '1']\n",
      "2\n",
      "['1', '0', '1', '1', '1', '0', '0']\n",
      "4\n"
     ]
    }
   ],
   "source": [
    "import sys, collections, math, bisect\n",
    "FILE = 0\n",
    "inp = sys.stdin if not FILE else open('input.txt', 'r')\n",
    "T = int(inp.readline().strip())\n",
    "for t in range(T):\n",
    "    N = int(inp.readline().strip())\n",
    "    arr = list(inp.readline().strip())\n",
    "    print(arr)\n",
    "    arr = ['0'] + arr + ['0']\n",
    "    left, right = [0] * (N+2), [0] * (N+2)\n",
    "    for i in range(1, N+2):\n",
    "        if arr[i-1] == '1': left[i] = left[i-1]+1\n",
    "    for i in range(N, -1, -1):\n",
    "        if arr[i+1] == '1': right[i] = right[i+1]+1\n",
    "    ans = 0\n",
    "    for i in range(N+2):\n",
    "        ans = max(ans, left[i]+right[i])\n",
    "    print(ans)"
   ]
  },
  {
   "cell_type": "code",
   "execution_count": 11,
   "metadata": {},
   "outputs": [
    {
     "data": {
      "text/plain": [
       "13.5"
      ]
     },
     "execution_count": 11,
     "metadata": {},
     "output_type": "execute_result"
    }
   ],
   "source": [
    "# py3\n",
    "import sys, collections, math, bisect\n",
    "FILE = 0\n",
    "inp = sys.stdin if not FILE else open('input.txt', 'r')\n",
    "N = int(inp.readline().strip())\n",
    "inf = 1<<30\n",
    "dist = [[inf]*N for _ in range(N)]\n",
    "for i in range(N-1):\n",
    "    a, b, c = list(map(int, inp.readline().strip().split(' ')))\n",
    "    dist[a-1][b-1] = dist[b-1][a-1] = c\n",
    "for i in range(N):\n",
    "    dist[i][i] = 0\n",
    "for k in range(N):\n",
    "    for i in range(N):\n",
    "        for j in range(N):\n",
    "            dist[i][j] = min(dist[i][j], dist[i][k]+dist[k][j])\n",
    "tmp = list(map(int, inp.readline().strip().split(' ')))\n",
    "k1, l1 = tmp[0], tmp[1:]\n",
    "tmp = list(map(int, inp.readline().strip().split(' ')))\n",
    "k2, l2 = tmp[0], tmp[1:]\n",
    "tmp = list(map(int, inp.readline().strip().split(' ')))\n",
    "k3, l3 = tmp[0], tmp[1:]\n",
    "def compute(dist, i, j, k):\n",
    "    d = 1<<30\n",
    "    for t in range(N):\n",
    "        d = min(d, dist[t][i]+dist[t][j]+dist[t][k])\n",
    "    return d\n",
    "ans = 0\n",
    "for i in l1:\n",
    "    for j in l2:\n",
    "        for k in l3:\n",
    "            ans += compute(dist, i-1, j-1, k-1)\n",
    "return ans/k1/k2/k3"
   ]
  },
  {
   "cell_type": "code",
   "execution_count": 7,
   "metadata": {},
   "outputs": [
    {
     "data": {
      "text/plain": [
       "1073741824"
      ]
     },
     "execution_count": 7,
     "metadata": {},
     "output_type": "execute_result"
    }
   ],
   "source": [
    "1<<30"
   ]
  },
  {
   "cell_type": "code",
   "execution_count": 5,
   "metadata": {},
   "outputs": [
    {
     "name": "stdout",
     "output_type": "stream",
     "text": [
      "{'s': 3, 'd': 4, 'u': 5, 'p': 6, 'f': 7, '0': 8, '1': 8, '2': 8, '3': 8, '4': 8, '5': 8, '6': 8, '7': 8, '8': 8, '9': 8, '%': 9}\n",
      "16\n",
      "19\n",
      "22\n",
      "52\n",
      "62\n",
      "28\n"
     ]
    }
   ],
   "source": [
    "# py3\n",
    "import sys, collections, math, bisect\n",
    "FILE = 1\n",
    "inp = sys.stdin if not FILE else open('input.txt', 'r')\n",
    "N = int(inp.readline().strip())\n",
    "keydict = {}\n",
    "for i, ch in enumerate('sdupf0%'):\n",
    "    if ch!='0': keydict[ch] = i+3\n",
    "    else: \n",
    "        for z in '0123456789':\n",
    "            keydict[z] = i+3\n",
    "print(keydict)\n",
    "for _ in range(N):\n",
    "    string = inp.readline().strip()\n",
    "    num_p = string.count('%')\n",
    "    ans = 0\n",
    "    if not num_p: ans = len(string)*3+1\n",
    "    else:\n",
    "        token = 0\n",
    "        for ch in string:\n",
    "            if token == 0:\n",
    "                ans += 3\n",
    "                if ch == '%': token = 1\n",
    "                continue\n",
    "            else:\n",
    "                ans += keydict.get(ch, keydict['%'])\n",
    "                if ch == '%': token = 0\n",
    "        ans += 1\n",
    "    print(ans)"
   ]
  },
  {
   "cell_type": "code",
   "execution_count": 6,
   "metadata": {},
   "outputs": [
    {
     "data": {
      "text/plain": [
       "48"
      ]
     },
     "execution_count": 6,
     "metadata": {},
     "output_type": "execute_result"
    }
   ],
   "source": [
    "8+8+8+6+9+9"
   ]
  },
  {
   "cell_type": "code",
   "execution_count": 13,
   "metadata": {},
   "outputs": [
    {
     "name": "stdout",
     "output_type": "stream",
     "text": [
      "3\n",
      "-1\n",
      "2\n"
     ]
    }
   ],
   "source": [
    "# py3\n",
    "import sys, collections, math, bisect\n",
    "FILE = 1\n",
    "inp = sys.stdin if not FILE else open('input.txt', 'r')\n",
    "T = int(inp.readline().strip())\n",
    "for _ in range(T):\n",
    "    M, N, X, Y, P = map(int, inp.readline().strip().split(' '))\n",
    "    Z = M*X-N*Y\n",
    "    if Z <=0 and P-100000-M*X>0: print(-1)\n",
    "    else:\n",
    "        B = P-100000-M*X\n",
    "        if B <=0:\n",
    "            Q = int(math.ceil((P-100000)*1./X))\n",
    "        else:\n",
    "            day = int(math.ceil(B*1./Z))\n",
    "            Q = day*(M+N)+int(math.ceil((P-100000-day*Z)*1./X))\n",
    "        print(Q)"
   ]
  },
  {
   "cell_type": "code",
   "execution_count": 6,
   "metadata": {},
   "outputs": [
    {
     "name": "stdout",
     "output_type": "stream",
     "text": [
      "4 5 2 1 3\n"
     ]
    }
   ],
   "source": [
    "from random import randint\n",
    "N = 5\n",
    "\n",
    "def rand_permutation(N):\n",
    "\tarr = list(range(1,N+1))\n",
    "\tfor i in range(1, N):\n",
    "\t\tj = randint(0, i)\n",
    "\t\ttmp = arr[i]\n",
    "\t\tarr[i] = arr[j]\n",
    "\t\tarr[j] = tmp\n",
    "\treturn arr\n",
    "\n",
    "answer = rand_permutation(N)\n",
    "\n",
    "print(' '.join([str(x) for x in answer]))"
   ]
  },
  {
   "cell_type": "code",
   "execution_count": 2,
   "metadata": {},
   "outputs": [
    {
     "name": "stdout",
     "output_type": "stream",
     "text": [
      "dict_values([0, 2, 5, 7])\n"
     ]
    }
   ],
   "source": [
    "ans = {}\n",
    "class Node():\n",
    "    def __init__(self, val):\n",
    "        self.val = val\n",
    "        self.left = None\n",
    "        self.right = None\n",
    "        \n",
    "def right_scene(root, height=0):\n",
    "    if not root: return\n",
    "    if height not in ans: ans[height] = root.val\n",
    "    right_scene(root.right, height+1)\n",
    "    right_scene(root.left, height+1)\n",
    "\n",
    "##\n",
    "##     0\n",
    "##   1    2\n",
    "## 3   4 5\n",
    "##6  7\n",
    "treeA = Node(0)\n",
    "treeA.left = Node(1)\n",
    "treeA.right = Node(2)\n",
    "treeA.left.left = Node(3)\n",
    "treeA.left.right = Node(4)\n",
    "treeA.right.left = Node(5)\n",
    "treeA.left.left.left = Node(6)\n",
    "treeA.left.left.right = Node(7)\n",
    "\n",
    "right_scene(treeA, 0)\n",
    "print(ans.values())"
   ]
  },
  {
   "cell_type": "code",
   "execution_count": null,
   "metadata": {},
   "outputs": [],
   "source": []
  }
 ],
 "metadata": {
  "kernelspec": {
   "display_name": "Python 3",
   "language": "python",
   "name": "python3"
  },
  "language_info": {
   "codemirror_mode": {
    "name": "ipython",
    "version": 3
   },
   "file_extension": ".py",
   "mimetype": "text/x-python",
   "name": "python",
   "nbconvert_exporter": "python",
   "pygments_lexer": "ipython3",
   "version": "3.6.7"
  }
 },
 "nbformat": 4,
 "nbformat_minor": 2
}
